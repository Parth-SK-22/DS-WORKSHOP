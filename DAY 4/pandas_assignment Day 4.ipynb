{
  "nbformat": 4,
  "nbformat_minor": 0,
  "metadata": {
    "colab": {
      "provenance": []
    },
    "kernelspec": {
      "name": "python3",
      "display_name": "Python 3"
    },
    "language_info": {
      "name": "python"
    }
  },
  "cells": [
    {
      "cell_type": "code",
      "execution_count": 11,
      "metadata": {
        "id": "KaT5-eQtMFov"
      },
      "outputs": [],
      "source": [
        "survival_count = titanic['Survived'].value_counts()"
      ]
    },
    {
      "cell_type": "code",
      "source": [
        "fare_stats = titanic.groupby('Pclass')['Fare'].agg(['max', 'min'])"
      ],
      "metadata": {
        "id": "fA_YhjxvVvhY"
      },
      "execution_count": 10,
      "outputs": []
    },
    {
      "cell_type": "code",
      "source": [
        "# Fill missing ages with median\n",
        "titanic['Age'].fillna(titanic['Age'].median(), inplace=True)\n",
        "\n",
        "# Fill missing Cabin values with 'Unknown'\n",
        "titanic['Cabin'].fillna('Unknown', inplace=True)"
      ],
      "metadata": {
        "colab": {
          "base_uri": "https://localhost:8080/"
        },
        "id": "2HSr3XAoWCc0",
        "outputId": "fad8bc2f-3d04-4eff-fa41-7210d9755f9c"
      },
      "execution_count": 12,
      "outputs": [
        {
          "output_type": "stream",
          "name": "stderr",
          "text": [
            "<ipython-input-12-f46a4e8be9b6>:2: FutureWarning: A value is trying to be set on a copy of a DataFrame or Series through chained assignment using an inplace method.\n",
            "The behavior will change in pandas 3.0. This inplace method will never work because the intermediate object on which we are setting values always behaves as a copy.\n",
            "\n",
            "For example, when doing 'df[col].method(value, inplace=True)', try using 'df.method({col: value}, inplace=True)' or df[col] = df[col].method(value) instead, to perform the operation inplace on the original object.\n",
            "\n",
            "\n",
            "  titanic['Age'].fillna(titanic['Age'].median(), inplace=True)\n",
            "<ipython-input-12-f46a4e8be9b6>:5: FutureWarning: A value is trying to be set on a copy of a DataFrame or Series through chained assignment using an inplace method.\n",
            "The behavior will change in pandas 3.0. This inplace method will never work because the intermediate object on which we are setting values always behaves as a copy.\n",
            "\n",
            "For example, when doing 'df[col].method(value, inplace=True)', try using 'df.method({col: value}, inplace=True)' or df[col] = df[col].method(value) instead, to perform the operation inplace on the original object.\n",
            "\n",
            "\n",
            "  titanic['Cabin'].fillna('Unknown', inplace=True)\n"
          ]
        }
      ]
    },
    {
      "cell_type": "code",
      "source": [
        "lower_class_survivors = titanic[(titanic['Pclass'] == 3) & (titanic['Survived'] == 1)]\n",
        "avg_fare_lower_class_survivors = lower_class_survivors['Fare'].mean()"
      ],
      "metadata": {
        "id": "dOuVtcykWVxi"
      },
      "execution_count": 13,
      "outputs": []
    },
    {
      "cell_type": "code",
      "source": [
        "duplicate_rows = titanic[titanic.duplicated()]\n",
        "titanic_no_duplicates = titanic.drop_duplicates()\n",
        "duplicate_columns = titanic.T.duplicated()"
      ],
      "metadata": {
        "id": "c-HusPQiWbej"
      },
      "execution_count": 14,
      "outputs": []
    }
  ]
}