{
  "nbformat": 4,
  "nbformat_minor": 0,
  "metadata": {
    "colab": {
      "provenance": []
    },
    "kernelspec": {
      "name": "python3",
      "display_name": "Python 3"
    },
    "language_info": {
      "name": "python"
    }
  },
  "cells": [
    {
      "cell_type": "code",
      "execution_count": null,
      "metadata": {
        "id": "HDkSxkmSUHRT",
        "colab": {
          "base_uri": "https://localhost:8080/"
        },
        "outputId": "99823055-b6b1-4c62-a9e5-2e1316ab7a4d"
      },
      "outputs": [
        {
          "output_type": "stream",
          "name": "stdout",
          "text": [
            "[4, 6, 8, 10]\n"
          ]
        }
      ],
      "source": [
        "l1 = [1, 2, 3, 4]\n",
        "l2 = [3, 4, 5, 6]\n",
        "\n",
        "# Element-wise addition\n",
        "result = [x + y for x, y in zip(l1, l2)]\n",
        "print(result)\n"
      ]
    },
    {
      "cell_type": "code",
      "source": [
        "l1 = [1, 2, 3, 4]\n",
        "l2 = [3, 4, 5, 6]\n",
        "\n",
        "# Combine the lists and find the maximum element\n",
        "max_element = max(l1 + l2)\n",
        "print(max_element)\n"
      ],
      "metadata": {
        "id": "DyEJ56p-US2T",
        "colab": {
          "base_uri": "https://localhost:8080/"
        },
        "outputId": "01cee396-f8b2-4279-bb6e-e566a0f713f8"
      },
      "execution_count": null,
      "outputs": [
        {
          "output_type": "stream",
          "name": "stdout",
          "text": [
            "6\n"
          ]
        }
      ]
    },
    {
      "cell_type": "code",
      "source": [
        "l1 = [1, 2, 3, 4]\n",
        "l2 = [3, 4, 5, 6]\n",
        "\n",
        "# Find common elements\n",
        "common_elements = list(set(l1) & set(l2))\n",
        "print(common_elements)\n"
      ],
      "metadata": {
        "id": "DJ-yEKuhUzHa",
        "colab": {
          "base_uri": "https://localhost:8080/"
        },
        "outputId": "0b4b266f-d92b-4448-bd24-b7203a3acb80"
      },
      "execution_count": null,
      "outputs": [
        {
          "output_type": "stream",
          "name": "stdout",
          "text": [
            "[3, 4]\n"
          ]
        }
      ]
    },
    {
      "cell_type": "code",
      "source": [
        "d1 = {'a': 1, 'b': 2, 'c': 3, 'd': 4}\n",
        "d2 = {'a': 7, 'f': 2, 'g': 55, 'h': \"101\"}\n",
        "\n",
        "# Find common keys\n",
        "common_keys = set(d1.keys()) & set(d2.keys())\n",
        "print(\"Common keys:\", common_keys)\n"
      ],
      "metadata": {
        "id": "R9O5Y42CVIt6",
        "colab": {
          "base_uri": "https://localhost:8080/"
        },
        "outputId": "a4eee4fe-4e33-42f9-9c86-c75e8b5d778d"
      },
      "execution_count": null,
      "outputs": [
        {
          "output_type": "stream",
          "name": "stdout",
          "text": [
            "Common keys: {'a'}\n"
          ]
        }
      ]
    },
    {
      "cell_type": "code",
      "source": [
        "d1 = {'a': 1, 'b': 2, 'c': 3, 'd': 4}\n",
        "\n",
        "# Replace values with their negative values\n",
        "d1_negative = {key: -value for key, value in d1.items()}\n",
        "print(d1_negative)\n"
      ],
      "metadata": {
        "id": "F7fLH0gvVnCL",
        "colab": {
          "base_uri": "https://localhost:8080/"
        },
        "outputId": "b14d4c6a-fb2c-450c-9de2-ae3b34e75bde"
      },
      "execution_count": null,
      "outputs": [
        {
          "output_type": "stream",
          "name": "stdout",
          "text": [
            "{'a': -1, 'b': -2, 'c': -3, 'd': -4}\n"
          ]
        }
      ]
    },
    {
      "cell_type": "code",
      "source": [
        "d2 = {'a': 7, 'f': 2, 'g': 55, 'h': \"101\"}\n",
        "\n",
        "# Swap keys and values\n",
        "d2_swapped = {value: key for key, value in d2.items()}\n",
        "print(d2_swapped)"
      ],
      "metadata": {
        "id": "BAr0i9uHWAKq",
        "colab": {
          "base_uri": "https://localhost:8080/"
        },
        "outputId": "4e874e1d-49f4-4680-e45a-6d72b81b4f91"
      },
      "execution_count": 9,
      "outputs": [
        {
          "output_type": "stream",
          "name": "stdout",
          "text": [
            "{7: 'a', 2: 'f', 55: 'g', '101': 'h'}\n"
          ]
        }
      ]
    }
  ]
}