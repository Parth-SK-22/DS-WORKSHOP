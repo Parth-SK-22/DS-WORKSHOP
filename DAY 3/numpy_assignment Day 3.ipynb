{
  "nbformat": 4,
  "nbformat_minor": 0,
  "metadata": {
    "colab": {
      "provenance": []
    },
    "kernelspec": {
      "name": "python3",
      "display_name": "Python 3"
    },
    "language_info": {
      "name": "python"
    }
  },
  "cells": [
    {
      "cell_type": "code",
      "execution_count": 1,
      "metadata": {
        "id": "WAu3yLBoEs4m",
        "colab": {
          "base_uri": "https://localhost:8080/"
        },
        "outputId": "3f6c82e7-0049-4214-d4a8-f20a9627399e"
      },
      "outputs": [
        {
          "output_type": "stream",
          "name": "stdout",
          "text": [
            "3D Array:\n",
            "[[[ 1  2  3  4]\n",
            "  [ 5  6  7  8]\n",
            "  [ 9 10 11 12]]\n",
            "\n",
            " [[13 14 15 16]\n",
            "  [17 18 19 20]\n",
            "  [21 22 23 24]]]\n",
            "\n",
            "Element at [0, 1, 2]: 7\n",
            "\n",
            "2nd row of 1st block: [5 6 7 8]\n",
            "\n",
            "3rd column across both blocks:\n",
            "[[ 3  7 11]\n",
            " [15 19 23]]\n",
            "\n",
            "2nd block:\n",
            "[[13 14 15 16]\n",
            " [17 18 19 20]\n",
            " [21 22 23 24]]\n"
          ]
        }
      ],
      "source": [
        "import numpy as np\n",
        "\n",
        "# Create a 3-dimensional array (2x3x4)\n",
        "array_3d = np.array([[[1, 2, 3, 4],\n",
        "                      [5, 6, 7, 8],\n",
        "                      [9, 10, 11, 12]],\n",
        "\n",
        "                     [[13, 14, 15, 16],\n",
        "                      [17, 18, 19, 20],\n",
        "                      [21, 22, 23, 24]]])\n",
        "\n",
        "print(\"3D Array:\")\n",
        "print(array_3d)\n",
        "\n",
        "# Indexing examples\n",
        "# 1. Access element at 1st block, 2nd row, 3rd column\n",
        "element = array_3d[0, 1, 2]\n",
        "print(\"\\nElement at [0, 1, 2]:\", element)\n",
        "\n",
        "# 2. Access the 2nd row of the 1st block\n",
        "row = array_3d[0, 1, :]\n",
        "print(\"\\n2nd row of 1st block:\", row)\n",
        "\n",
        "# 3. Access all elements in the 3rd column across both blocks\n",
        "column = array_3d[:, :, 2]\n",
        "print(\"\\n3rd column across both blocks:\")\n",
        "print(column)\n",
        "\n",
        "# 4. Access the entire 2nd block\n",
        "block = array_3d[1, :, :]\n",
        "print(\"\\n2nd block:\")\n",
        "print(block)\n"
      ]
    },
    {
      "cell_type": "code",
      "source": [
        "d = {1: 2, 2: 3, 3: 4, 4: 5}\n",
        "\n",
        "# Create an array of squares of keys\n",
        "squares_of_keys = [key**2 for key in d.keys()]\n",
        "print(\"Squares of keys:\", squares_of_keys)\n"
      ],
      "metadata": {
        "id": "heew7jo-tBoD",
        "colab": {
          "base_uri": "https://localhost:8080/"
        },
        "outputId": "e2ce879d-89a8-4cfb-bead-d935b298448b"
      },
      "execution_count": 2,
      "outputs": [
        {
          "output_type": "stream",
          "name": "stdout",
          "text": [
            "Squares of keys: [1, 4, 9, 16]\n"
          ]
        }
      ]
    },
    {
      "cell_type": "code",
      "source": [
        "import numpy as np\n",
        "\n",
        "# Create a 2-dimensional array (2x2)\n",
        "array_2d = np.array([[3, 4],\n",
        "                     [5, 6]])\n",
        "\n",
        "# Create a 2x2 identity matrix\n",
        "identity_matrix = np.eye(2)\n",
        "\n",
        "# Multiply the array by the identity matrix\n",
        "result = np.dot(array_2d, identity_matrix)\n",
        "\n",
        "print(\"Original Array:\")\n",
        "print(array_2d)\n",
        "\n",
        "print(\"\\nIdentity Matrix:\")\n",
        "print(identity_matrix)\n",
        "\n",
        "print(\"\\nResult of Multiplication:\")\n",
        "print(result)\n"
      ],
      "metadata": {
        "id": "lVm5ozRmtZEK",
        "colab": {
          "base_uri": "https://localhost:8080/"
        },
        "outputId": "ce035d58-dfce-4067-f174-73c17329f036"
      },
      "execution_count": 3,
      "outputs": [
        {
          "output_type": "stream",
          "name": "stdout",
          "text": [
            "Original Array:\n",
            "[[3 4]\n",
            " [5 6]]\n",
            "\n",
            "Identity Matrix:\n",
            "[[1. 0.]\n",
            " [0. 1.]]\n",
            "\n",
            "Result of Multiplication:\n",
            "[[3. 4.]\n",
            " [5. 6.]]\n"
          ]
        }
      ]
    }
  ]
}